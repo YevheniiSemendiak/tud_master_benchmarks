{
 "cells": [
  {
   "cell_type": "markdown",
   "metadata": {},
   "source": [
    "# Example of Search Space creation using composite hyperparameters\n",
    "___\n",
    "\n",
    "#### Before diving into example, let me clarify some key notions used here:\n",
    "- Search Space: combination of Hyperparameters and their relationships. Even one Hyperparameter could define a Search Space by itself.\n",
    "- Hyperparameter: One of possible characteristics of Search Space, could be one of following types: Categorical (Nominal, Ordinal) and Numeric (Integer, Float).\n",
    "\n",
    "\n",
    "#### Imagine, you need to create a Search Space for metaheuristics search.\n",
    "\n",
    "On the **top level**, you define a **meta-heuristics** by their **names**.\n",
    "On the **level below** you define child parameters for each meta-heuristics. These parameters could require definition of different parameters, if some specific values are taken.\n",
    "\n",
    "For instance, for python-based meta-heuristic of type \"Evolution Strategy\" (**ES**), one have to define following parameters (that later become Hyperparameters of Search Space):\n",
    "- 'mu' - Integer, defines number of parents which create offspring;\n",
    "- 'lambda' - Integer, number of child Solutions created by *mu* parents;\n",
    "- 'elitist' - the selection algorithm type, defines (lambda+mu) or (lambda, mu) ES type;\n",
    "- 'mutation type' - either \"Permutation\" or \"Scramble\" mutation - strategy to perform mutation;\n",
    "- 'mutation probability' floating number between 0 and 1.\n",
    "\n",
    "For such parameters as \"mutation type\" and \"crossover type\" one also should specify probability of applying opperation.\n",
    "This defines a shape of Search Space as a tree.\n",
    "##### See graphical illustration of Hyperparameters, their types and dependencies:"
   ]
  },
  {
   "cell_type": "code",
   "execution_count": 1,
   "metadata": {},
   "outputs": [
    {
     "data": {
      "text/html": [
       "\n",
       "        <iframe\n",
       "            width=\"900\"\n",
       "            height=\"650\"\n",
       "            src=\"https://miro.com/app/embed/o9J_kvvl4xw=/?\"\n",
       "            frameborder=\"0\"\n",
       "            allowfullscreen\n",
       "        ></iframe>\n",
       "        "
      ],
      "text/plain": [
       "<IPython.lib.display.IFrame at 0x7fe4080f3510>"
      ]
     },
     "execution_count": 1,
     "metadata": {},
     "output_type": "execute_result"
    }
   ],
   "source": [
    "from IPython.display import IFrame\n",
    "IFrame(\"https://miro.com/app/embed/o9J_kvvl4xw=/?\", width=900, height=650)"
   ]
  },
  {
   "cell_type": "markdown",
   "metadata": {},
   "source": [
    "## Search Space: Step-wise construction\n",
    "#### Some key points, that should be kept in mind:\n",
    "- Currently, only the Categorical Hyperparameter could have a children.\n",
    "- All hyperparameters, that could appear simmultaneously in Search Space must have different names (to avoid collitions).\n",
    "\n",
    "First, lets create a root Hyperparameter.\n",
    "We are choosing one of 3 different types of meta-heuristics: python-based Evolutionary Strategy and Simmulated Annealing and java-based Evolution strategy.\n",
    "\n",
    "Based chosen meta-heuristic, different parameters could be exposed, so root of Search Space is deffinitely type of meta-heuristic. The best way to reflect this information is to define it as a Categorical Hyperparameter with tree different categories - \"jMetalPy.SimulatedAnnealing\", \"jMetalPy.EvolutionStrategy\" and \"jMetal.EvolutionStrategy\".\n",
    "Categorical data type by itself could be Ordinal or Nominal. Some predictional models could utilize this information in their prediction.\n",
    "Characteristics of each type:\n",
    "- Ordinal data type defines notions of 'closeness' and 'order' between categories. It is possible to derive 'mean' and 'mode' of samples bunch. Examples could be [\"cold\", \"normal\", \"hot\"] or [\"bad\", \"neutral\", \"good\"].\n",
    "- Nominal data type does not implies neither of 'closeness' not 'order' notions. Instead of 'mean' one could only derive 'mode' from bunch of information.\n",
    "\n",
    "It is clear, that type of meta-heuristic is a nominal data and those Nominal Hyperparameter type should be used:"
   ]
  },
  {
   "cell_type": "code",
   "execution_count": 1,
   "metadata": {},
   "outputs": [
    {
     "name": "stdout",
     "output_type": "stream",
     "text": [
      "/media/sem/B54BE5B22C0D3FA81/TUD/Master/code/experiments\n"
     ]
    }
   ],
   "source": [
    "%cd ..\n",
    "from core_entities.search_space import NominalHyperparameter, IntegerHyperparameter, FloatHyperparameter"
   ]
  },
  {
   "cell_type": "code",
   "execution_count": 2,
   "metadata": {},
   "outputs": [
    {
     "name": "stdout",
     "output_type": "stream",
     "text": [
      "NominalHyperparameter 'low level heuristic'.\n",
      "├ Default category: 'jMetalPy.EvolutionStrategy'.\n",
      "├ Categories:\n",
      "├  jMetalPy.SimulatedAnnealing:\n",
      "├  jMetalPy.EvolutionStrategy:\n",
      "├  jMetal.EvolutionStrategy:\n"
     ]
    }
   ],
   "source": [
    "mh_type = NominalHyperparameter(\n",
    "    name=\"low level heuristic\",                            \n",
    "    categories=[\"jMetalPy.SimulatedAnnealing\", \"jMetalPy.EvolutionStrategy\", \"jMetal.EvolutionStrategy\"]\n",
    ")\n",
    "print(mh_type)"
   ]
  },
  {
   "cell_type": "markdown",
   "metadata": {},
   "source": [
    "### Create Hyperparameters\n",
    "Now lets define child hyperparameters for python-based evolution strategy meta-heuristic.\n",
    "\n",
    "The parameters for all other meta-heuristics are defined in the same way."
   ]
  },
  {
   "cell_type": "code",
   "execution_count": 6,
   "metadata": {},
   "outputs": [],
   "source": [
    "py_es_mu = IntegerHyperparameter(\"mu\", 1, 1000, 500)\n",
    "py_es_lambda = IntegerHyperparameter(\"lambda_\", 1, 1000, 500)\n",
    "py_es_elitist = NominalHyperparameter('elitist', ['True', 'False'], 'False')\n",
    "py_es_mut = NominalHyperparameter(\"mutation_type\", ['PermutationSwapMutation', 'ScrambleMutation'], 'PermutationSwapMutation')\n",
    "py_es_mut_prob = FloatHyperparameter(\"mutation_probability\", 0, 1, 0.5)"
   ]
  },
  {
   "cell_type": "markdown",
   "metadata": {},
   "source": [
    "### Add parent-child relationships\n",
    "\n",
    "Since *mutation type* hyperparameter defines child *mutation probability* it also should be defined and added to *mutation type* as a child. In the same way the parameters are linked to their algorith types. \n",
    "**Note**, one could skip 'activation_categories' parameter when adding child, if child should appear behind each category."
   ]
  },
  {
   "cell_type": "code",
   "execution_count": 8,
   "metadata": {
    "scrolled": true
   },
   "outputs": [],
   "source": [
    "py_es_mut.add_child_hyperparameter(py_es_mut_prob)\n",
    "for hp in (py_es_mu, py_es_lambda, py_es_elitist, py_es_mut):\n",
    "    mh_type.add_child_hyperparameter(hp, activation_category='jMetalPy.EvolutionStrategy')"
   ]
  },
  {
   "cell_type": "markdown",
   "metadata": {},
   "source": [
    "Now lets check a structure of the constructed so far search space."
   ]
  },
  {
   "cell_type": "code",
   "execution_count": 10,
   "metadata": {},
   "outputs": [
    {
     "name": "stdout",
     "output_type": "stream",
     "text": [
      "NominalHyperparameter 'low level heuristic'.\n",
      "├ Default category: 'jMetalPy.EvolutionStrategy'.\n",
      "├ Categories:\n",
      "├  jMetalPy.SimulatedAnnealing:\n",
      "├  jMetalPy.EvolutionStrategy:\n",
      "├+   IntegerHyperparameter 'mu'\n",
      "├    | Lower boundary: 1, upper boundary: 1000.\n",
      "├    | Default value: 500.\n",
      "├+   IntegerHyperparameter 'lambda_'\n",
      "├    | Lower boundary: 1, upper boundary: 1000.\n",
      "├    | Default value: 500.\n",
      "├+   NominalHyperparameter 'elitist'.\n",
      "├    ├ Default category: 'False'.\n",
      "├    ├ Categories:\n",
      "├    ├  True:\n",
      "├    ├  False:\n",
      "├+   NominalHyperparameter 'mutation_type'.\n",
      "├    ├ Default category: 'PermutationSwapMutation'.\n",
      "├    ├ Categories:\n",
      "├    ├  PermutationSwapMutation:\n",
      "├    ├+   FloatHyperparameter 'mutation_probability'\n",
      "├    ├    | Lower boundary: 0.0, upper boundary: 1.0.\n",
      "├    ├    | Default value: 0.5.\n",
      "├    ├  ScrambleMutation:\n",
      "├    ├+   FloatHyperparameter 'mutation_probability'\n",
      "├    ├    | Lower boundary: 0.0, upper boundary: 1.0.\n",
      "├    ├    | Default value: 0.5.\n",
      "├  jMetal.EvolutionStrategy:\n"
     ]
    }
   ],
   "source": [
    "print(mh_type)"
   ]
  },
  {
   "cell_type": "markdown",
   "metadata": {},
   "source": [
    "As you may see, the jMetalPy.Evolution strategy hyperparameter now contains several child parameters with the displayed values.\n",
    "\n",
    "Let's define the parameters for other meta-heuristic and link them together. "
   ]
  },
  {
   "cell_type": "code",
   "execution_count": 11,
   "metadata": {},
   "outputs": [],
   "source": [
    "# simulated annealing\n",
    "py_sa_mut = NominalHyperparameter(\"mutation_type\", ['PermutationSwapMutation', 'ScrambleMutation'], 'PermutationSwapMutation')\n",
    "py_sa_mut_prob = FloatHyperparameter(\"mutation_probability\", 0, 1, 0.5)\n",
    "py_sa_mut.add_child_hyperparameter(py_sa_mut_prob)\n",
    "mh_type.add_child_hyperparameter(py_sa_mut, activation_category='jMetalPy.SimulatedAnnealing')\n",
    "\n",
    "# evolution strategy\n",
    "j_es_mu = IntegerHyperparameter(name=\"mu\", lower=1, upper=1000, default_value=500)\n",
    "j_es_lambda = IntegerHyperparameter(\"lambda\", 1, 1000, 500)\n",
    "j_es_elitist = NominalHyperparameter(\"elitist\", ['True', 'False'], 'False')\n",
    "j_es_mutation_prob = FloatHyperparameter(\"mutation_probability\", 0, 1, 0.5)\n",
    "for hp in (j_es_mu, j_es_lambda, j_es_elitist, j_es_mutation_prob):\n",
    "    mh_type.add_child_hyperparameter(hp, activation_category='jMetal.EvolutionStrategy')"
   ]
  },
  {
   "cell_type": "code",
   "execution_count": 13,
   "metadata": {},
   "outputs": [
    {
     "name": "stdout",
     "output_type": "stream",
     "text": [
      "NominalHyperparameter 'low level heuristic'.\n",
      "├ Default category: 'jMetalPy.EvolutionStrategy'.\n",
      "├ Categories:\n",
      "├  jMetalPy.SimulatedAnnealing:\n",
      "├+   NominalHyperparameter 'mutation_type'.\n",
      "├    ├ Default category: 'PermutationSwapMutation'.\n",
      "├    ├ Categories:\n",
      "├    ├  PermutationSwapMutation:\n",
      "├    ├+   FloatHyperparameter 'mutation_probability'\n",
      "├    ├    | Lower boundary: 0.0, upper boundary: 1.0.\n",
      "├    ├    | Default value: 0.5.\n",
      "├    ├  ScrambleMutation:\n",
      "├    ├+   FloatHyperparameter 'mutation_probability'\n",
      "├    ├    | Lower boundary: 0.0, upper boundary: 1.0.\n",
      "├    ├    | Default value: 0.5.\n",
      "├  jMetalPy.EvolutionStrategy:\n",
      "├+   IntegerHyperparameter 'mu'\n",
      "├    | Lower boundary: 1, upper boundary: 1000.\n",
      "├    | Default value: 500.\n",
      "├+   IntegerHyperparameter 'lambda_'\n",
      "├    | Lower boundary: 1, upper boundary: 1000.\n",
      "├    | Default value: 500.\n",
      "├+   NominalHyperparameter 'elitist'.\n",
      "├    ├ Default category: 'False'.\n",
      "├    ├ Categories:\n",
      "├    ├  True:\n",
      "├    ├  False:\n",
      "├+   NominalHyperparameter 'mutation_type'.\n",
      "├    ├ Default category: 'PermutationSwapMutation'.\n",
      "├    ├ Categories:\n",
      "├    ├  PermutationSwapMutation:\n",
      "├    ├+   FloatHyperparameter 'mutation_probability'\n",
      "├    ├    | Lower boundary: 0.0, upper boundary: 1.0.\n",
      "├    ├    | Default value: 0.5.\n",
      "├    ├  ScrambleMutation:\n",
      "├    ├+   FloatHyperparameter 'mutation_probability'\n",
      "├    ├    | Lower boundary: 0.0, upper boundary: 1.0.\n",
      "├    ├    | Default value: 0.5.\n",
      "├  jMetal.EvolutionStrategy:\n",
      "├+   IntegerHyperparameter 'mu'\n",
      "├    | Lower boundary: 1, upper boundary: 1000.\n",
      "├    | Default value: 500.\n",
      "├+   IntegerHyperparameter 'lambda'\n",
      "├    | Lower boundary: 1, upper boundary: 1000.\n",
      "├    | Default value: 500.\n",
      "├+   NominalHyperparameter 'elitist'.\n",
      "├    ├ Default category: 'False'.\n",
      "├    ├ Categories:\n",
      "├    ├  True:\n",
      "├    ├  False:\n",
      "├+   FloatHyperparameter 'mutation_probability'\n",
      "├    | Lower boundary: 0.0, upper boundary: 1.0.\n",
      "├    | Default value: 0.5.\n"
     ]
    }
   ],
   "source": [
    "# lets check the resulted search space\n",
    "print(mh_type)"
   ]
  },
  {
   "cell_type": "markdown",
   "metadata": {},
   "source": [
    "### Search Space construction using json description\n",
    "One could also provide json description of Search Space and use created tool to build Search Space from json description:"
   ]
  },
  {
   "cell_type": "code",
   "execution_count": 16,
   "metadata": {},
   "outputs": [
    {
     "name": "stdout",
     "output_type": "stream",
     "text": [
      "True\n"
     ]
    }
   ],
   "source": [
    "from core_entities.search_space import from_json\n",
    "mh_type_json_loaded = from_json(\"./Resources/HyperHeuristic/HHData.json\")\n",
    "\n",
    "# It is also possible to compare the equality of search spaces, recursively comparing each underlying hyperparameter (name, values, children, etc.).\n",
    "# Lets check if the created in step-wise approach and its description in JSON file are the same:\n",
    "print(mh_type == mh_type_json_loaded)"
   ]
  },
  {
   "cell_type": "markdown",
   "metadata": {},
   "source": [
    "# Configuration: creation and sampling\n",
    "After defining the Search Space, lets check the Configurations sampling. It is done iteratively, level-per-level, each time traversing deeper in Search Space. For the Configuration representation we use the **mutable mapping**, each time addding the next layer of parameters.\n",
    "\n",
    "For instance, in our use-case, on the first level the metaheurisitic type will be selected:"
   ]
  },
  {
   "cell_type": "code",
   "execution_count": 21,
   "metadata": {},
   "outputs": [
    {
     "name": "stdout",
     "output_type": "stream",
     "text": [
      "{'low level heuristic': 'jMetalPy.EvolutionStrategy'}\n"
     ]
    }
   ],
   "source": [
    "import numpy as np\n",
    "np.random.seed(1) # reproductivity of the same results.\n",
    "config = {}\n",
    "mh_type.generate(config)\n",
    "print(config)"
   ]
  },
  {
   "cell_type": "markdown",
   "metadata": {},
   "source": [
    "After selecting the meta-heuristic type, its respective child hyperparameters will be exposed and sampled:"
   ]
  },
  {
   "cell_type": "code",
   "execution_count": 22,
   "metadata": {},
   "outputs": [
    {
     "name": "stdout",
     "output_type": "stream",
     "text": [
      "{'low level heuristic': 'jMetalPy.EvolutionStrategy', 'mu': 236, 'lambda_': 909, 'elitist': 'True', 'mutation_type': 'ScrambleMutation'}\n"
     ]
    }
   ],
   "source": [
    "mh_type.generate(config)\n",
    "print(config)"
   ]
  },
  {
   "cell_type": "markdown",
   "metadata": {},
   "source": [
    "The process of configuration sampling is defined in such a way that the sampling on each level guarantees to provide a valid parameter values. Also, after sampling on the previous level, those parameters will not be altered, therefore, in the search space of maximal depth **N**, after maximally N *generate* calls, the sampling will be finished.\n",
    "\n",
    "For better usability, we added the *validate* method to control the prediction process. It may be called recursively, to estimate whether the configuration sampling is finished. Or it may be executed on a specific parameter instance without recursive calling to check if underlying paramers' value was not violated."
   ]
  },
  {
   "cell_type": "code",
   "execution_count": 23,
   "metadata": {},
   "outputs": [
    {
     "name": "stdout",
     "output_type": "stream",
     "text": [
      "{'low level heuristic': 'jMetalPy.EvolutionStrategy', 'mu': 236, 'lambda_': 909, 'elitist': 'True', 'mutation_type': 'ScrambleMutation'}\n",
      "{'low level heuristic': 'jMetalPy.EvolutionStrategy', 'mu': 236, 'lambda_': 909, 'elitist': 'True', 'mutation_type': 'ScrambleMutation', 'mutation_probability': 0.12812444792935673}\n"
     ]
    }
   ],
   "source": [
    "print(config)\n",
    "while not mh_type.validate(config, recursive=True):\n",
    "    mh_type.generate(config)\n",
    "    print(config)"
   ]
  },
  {
   "cell_type": "markdown",
   "metadata": {},
   "source": [
    "### Configuration: description\n",
    "\n",
    "On each point, one could need a description of available information in Configuration to perform different kinds of actions, for instance in machine learning pipelines, such a Configuration should be encoded to numeric data (encoding), and numeric data could be altered for better fit into models (data transformation):"
   ]
  },
  {
   "cell_type": "code",
   "execution_count": 24,
   "metadata": {},
   "outputs": [
    {
     "data": {
      "text/plain": [
       "OrderedDict([('low level heuristic',\n",
       "              {'hyperparameter': NominalHyperparameter 'low level heuristic'.\n",
       "               ├ Default category: 'jMetalPy.EvolutionStrategy'.\n",
       "               ├ Categories:\n",
       "               ├  jMetalPy.SimulatedAnnealing:\n",
       "               ├+   NominalHyperparameter 'mutation_type'.\n",
       "               ├    ├ Default category: 'PermutationSwapMutation'.\n",
       "               ├    ├ Categories:\n",
       "               ├    ├  PermutationSwapMutation:\n",
       "               ├    ├+   FloatHyperparameter 'mutation_probability'\n",
       "               ├    ├    | Lower boundary: 0.0, upper boundary: 1.0.\n",
       "               ├    ├    | Default value: 0.5.\n",
       "               ├    ├  ScrambleMutation:\n",
       "               ├    ├+   FloatHyperparameter 'mutation_probability'\n",
       "               ├    ├    | Lower boundary: 0.0, upper boundary: 1.0.\n",
       "               ├    ├    | Default value: 0.5.\n",
       "               ├  jMetalPy.EvolutionStrategy:\n",
       "               ├+   IntegerHyperparameter 'mu'\n",
       "               ├    | Lower boundary: 1, upper boundary: 1000.\n",
       "               ├    | Default value: 500.\n",
       "               ├+   IntegerHyperparameter 'lambda_'\n",
       "               ├    | Lower boundary: 1, upper boundary: 1000.\n",
       "               ├    | Default value: 500.\n",
       "               ├+   NominalHyperparameter 'elitist'.\n",
       "               ├    ├ Default category: 'False'.\n",
       "               ├    ├ Categories:\n",
       "               ├    ├  True:\n",
       "               ├    ├  False:\n",
       "               ├+   NominalHyperparameter 'mutation_type'.\n",
       "               ├    ├ Default category: 'PermutationSwapMutation'.\n",
       "               ├    ├ Categories:\n",
       "               ├    ├  PermutationSwapMutation:\n",
       "               ├    ├+   FloatHyperparameter 'mutation_probability'\n",
       "               ├    ├    | Lower boundary: 0.0, upper boundary: 1.0.\n",
       "               ├    ├    | Default value: 0.5.\n",
       "               ├    ├  ScrambleMutation:\n",
       "               ├    ├+   FloatHyperparameter 'mutation_probability'\n",
       "               ├    ├    | Lower boundary: 0.0, upper boundary: 1.0.\n",
       "               ├    ├    | Default value: 0.5.\n",
       "               ├  jMetal.EvolutionStrategy:\n",
       "               ├+   IntegerHyperparameter 'mu'\n",
       "               ├    | Lower boundary: 1, upper boundary: 1000.\n",
       "               ├    | Default value: 500.\n",
       "               ├+   IntegerHyperparameter 'lambda'\n",
       "               ├    | Lower boundary: 1, upper boundary: 1000.\n",
       "               ├    | Default value: 500.\n",
       "               ├+   NominalHyperparameter 'elitist'.\n",
       "               ├    ├ Default category: 'False'.\n",
       "               ├    ├ Categories:\n",
       "               ├    ├  True:\n",
       "               ├    ├  False:\n",
       "               ├+   FloatHyperparameter 'mutation_probability'\n",
       "               ├    | Lower boundary: 0.0, upper boundary: 1.0.\n",
       "               ├    | Default value: 0.5.,\n",
       "               'categories': ['jMetalPy.SimulatedAnnealing',\n",
       "                'jMetalPy.EvolutionStrategy',\n",
       "                'jMetal.EvolutionStrategy']}),\n",
       "             ('mu', OrderedDict([('hyperparameter', IntegerHyperparameter 'mu'\n",
       "                            | Lower boundary: 1, upper boundary: 1000.\n",
       "                            | Default value: 500.),\n",
       "                           ('boundaries', [1, 1000])])),\n",
       "             ('lambda_',\n",
       "              OrderedDict([('hyperparameter', IntegerHyperparameter 'lambda_'\n",
       "                            | Lower boundary: 1, upper boundary: 1000.\n",
       "                            | Default value: 500.),\n",
       "                           ('boundaries', [1, 1000])])),\n",
       "             ('elitist', {'hyperparameter': NominalHyperparameter 'elitist'.\n",
       "               ├ Default category: 'False'.\n",
       "               ├ Categories:\n",
       "               ├  True:\n",
       "               ├  False:, 'categories': ['True', 'False']}),\n",
       "             ('mutation_type',\n",
       "              {'hyperparameter': NominalHyperparameter 'mutation_type'.\n",
       "               ├ Default category: 'PermutationSwapMutation'.\n",
       "               ├ Categories:\n",
       "               ├  PermutationSwapMutation:\n",
       "               ├+   FloatHyperparameter 'mutation_probability'\n",
       "               ├    | Lower boundary: 0.0, upper boundary: 1.0.\n",
       "               ├    | Default value: 0.5.\n",
       "               ├  ScrambleMutation:\n",
       "               ├+   FloatHyperparameter 'mutation_probability'\n",
       "               ├    | Lower boundary: 0.0, upper boundary: 1.0.\n",
       "               ├    | Default value: 0.5.,\n",
       "               'categories': ['PermutationSwapMutation', 'ScrambleMutation']}),\n",
       "             ('mutation_probability',\n",
       "              OrderedDict([('hyperparameter',\n",
       "                            FloatHyperparameter 'mutation_probability'\n",
       "                            | Lower boundary: 0.0, upper boundary: 1.0.\n",
       "                            | Default value: 0.5.),\n",
       "                           ('boundaries', [0.0, 1.0])]))])"
      ]
     },
     "execution_count": 24,
     "metadata": {},
     "output_type": "execute_result"
    }
   ],
   "source": [
    "mh_type.describe(config)"
   ]
  }
 ],
 "metadata": {
  "kernelspec": {
   "display_name": "Python 3",
   "language": "python",
   "name": "python3"
  },
  "language_info": {
   "codemirror_mode": {
    "name": "ipython",
    "version": 3
   },
   "file_extension": ".py",
   "mimetype": "text/x-python",
   "name": "python",
   "nbconvert_exporter": "python",
   "pygments_lexer": "ipython3",
   "version": "3.7.4"
  }
 },
 "nbformat": 4,
 "nbformat_minor": 4
}
