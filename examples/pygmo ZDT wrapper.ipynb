{
 "cells": [
  {
   "cell_type": "markdown",
   "metadata": {},
   "source": [
    "### Usage example of `pygmo2.zdt` problem wrapper in currently defined Search Space\n",
    "\n",
    "[pygmo2](https://github.com/esa/pagmo2) contain build-in definition of ZDT problems (*see Zitzler–Deb–Thiele's function 1..6 [here](https://en.wikipedia.org/wiki/Test_functions_for_optimization#Test_functions_for_multi-objective_optimization)*)\n",
    "\n",
    "These functions provide a use-case to practice the multi-objective optimization.\n",
    "Created `PgZdtWrapper` class is a wrapper for `pygmo2`'s ZDT implementation.\n",
    "It exposes possibility to instantiate the problems in terms of our Search Space, sample the problem solutions (Configurations), evaluating them on-the-fly.\n",
    "\n",
    "Note, since because of the restriction:\n",
    "only the categorical hyperparameter could have a children, the Search Space still have a root of categorical hyperparameter with single category problem name - a useless bunch of information."
   ]
  },
  {
   "cell_type": "code",
   "execution_count": 2,
   "metadata": {},
   "outputs": [
    {
     "name": "stdout",
     "output_type": "stream",
     "text": [
      "/media/sem/B54BE5B22C0D3FA81/TUD/Master/code/experiments\n"
     ]
    }
   ],
   "source": [
    "%cd .."
   ]
  },
  {
   "cell_type": "code",
   "execution_count": 12,
   "metadata": {},
   "outputs": [],
   "source": [
    "import pygmo as pg\n",
    "import pandas as pd\n",
    "from typing import List, MutableMapping\n",
    "\n",
    "from core_entities.search_space import NominalHyperparameter, FloatHyperparameter, Hyperparameter\n",
    "\n",
    "class PgZdtWrapper:\n",
    "    \"\"\"\n",
    "    Wrapper for the synthetic ZDT (Zitzler–Deb–Thiele's function) multi-variate, multiobjective problem from Pygmo framework.\n",
    "    Initizalization parameters:\n",
    "        - problem_id: integer between 1 and 6. Defines problem type, more here: https://esa.github.io/pagmo2/docs/cpp/problems/zdt.html\n",
    "        - number_of_dimensions: integer, the range for each problem type is specific.\n",
    "    \"\"\"\n",
    "    def __init__(self, problem_id: int, number_of_dimensions: int):\n",
    "        self.problem = pg.problem(pg.zdt(prob_id=problem_id, param=number_of_dimensions))\n",
    "\n",
    "        root = NominalHyperparameter(\"problem\", [self.problem.get_name()])\n",
    "        for x, bounds in enumerate(zip(*self.problem.get_bounds())):\n",
    "            child = FloatHyperparameter(name=f\"x_{x}\", lower=bounds[0], upper=bounds[1])\n",
    "            root.add_child_hyperparameter(child)\n",
    "\n",
    "        self.search_space = root\n",
    "\n",
    "    def sample(self, n: int) -> List[MutableMapping]:\n",
    "        \"\"\"\n",
    "            Sample n new data points in the initialized ZDT problem.\n",
    "        \"\"\"\n",
    "        sampled = []\n",
    "        for _ in range(n):\n",
    "            config = {}\n",
    "            while not self.search_space.validate(config, recursive=True):\n",
    "                self.search_space.generate(config)\n",
    "            params = list(filter(lambda x: isinstance(x, (int, float)), config.values()))\n",
    "            results = self.problem.fitness(params)\n",
    "            config.update({f\"f_{k}\": v for k, v in enumerate(results)})\n",
    "            sampled.append(config)\n",
    "        return sampled\n",
    "    \n",
    "    def evaluate(self, config: MutableMapping) -> MutableMapping:\n",
    "        params = list(filter(lambda x: isinstance(x, (int, float)), config.values()))\n",
    "        results = self.problem.fitness(params)\n",
    "        config.update({f\"f_{k}\": v for k, v in enumerate(results)})\n",
    "        return config\n",
    "        "
   ]
  },
  {
   "cell_type": "code",
   "execution_count": 13,
   "metadata": {},
   "outputs": [
    {
     "name": "stdout",
     "output_type": "stream",
     "text": [
      "Problem name: ZDT4\n",
      "\tGlobal dimension:\t\t\t4\n",
      "\tInteger dimension:\t\t\t0\n",
      "\tFitness dimension:\t\t\t2\n",
      "\tNumber of objectives:\t\t\t2\n",
      "\tEquality constraints dimension:\t\t0\n",
      "\tInequality constraints dimension:\t0\n",
      "\tLower bounds: [0, -5, -5, -5]\n",
      "\tUpper bounds: [1, 5, 5, 5]\n",
      "\tHas batch fitness evaluation: false\n",
      "\n",
      "\tHas gradient: false\n",
      "\tUser implemented gradient sparsity: false\n",
      "\tHas hessians: false\n",
      "\tUser implemented hessians sparsity: false\n",
      "\n",
      "\tFitness evaluations: 0\n",
      "\n",
      "\tThread safety: basic\n",
      "\n",
      "NominalHyperparameter 'problem'.\n",
      "├ Default category: 'ZDT4'.\n",
      "├ Categories:\n",
      "├  ZDT4:\n",
      "├+   FloatHyperparameter 'x_0'\n",
      "├    | Lower boundary: 0.0, upper boundary: 1.0.\n",
      "├    | Default value: 0.5.\n",
      "├+   FloatHyperparameter 'x_1'\n",
      "├    | Lower boundary: -5.0, upper boundary: 5.0.\n",
      "├    | Default value: 5.0.\n",
      "├+   FloatHyperparameter 'x_2'\n",
      "├    | Lower boundary: -5.0, upper boundary: 5.0.\n",
      "├    | Default value: 5.0.\n",
      "├+   FloatHyperparameter 'x_3'\n",
      "├    | Lower boundary: -5.0, upper boundary: 5.0.\n",
      "├    | Default value: 5.0.\n"
     ]
    }
   ],
   "source": [
    "zdt = PgZdtWrapper(problem_id = 4, number_of_dimensions = 4)\n",
    "print(zdt.problem)\n",
    "print(zdt.search_space)"
   ]
  },
  {
   "cell_type": "markdown",
   "metadata": {},
   "source": [
    "#### Sampling the Configurations from the problem"
   ]
  },
  {
   "cell_type": "code",
   "execution_count": 17,
   "metadata": {},
   "outputs": [
    {
     "name": "stdout",
     "output_type": "stream",
     "text": [
      "   problem       x_0       x_1       x_2       x_3       f_0        f_1\n",
      "0     ZDT4  0.481465 -3.939946 -2.400175  1.808933  0.481465  47.511338\n",
      "1     ZDT4  0.387463 -3.542724  0.921715 -4.533488  0.387463  37.674068\n",
      "2     ZDT4  0.828848 -3.106117  4.402333 -3.940919  0.828848  55.276900\n",
      "3     ZDT4  0.921614  2.756472  1.120845  4.605785  0.921614  60.198033\n",
      "4     ZDT4  0.011982 -1.509626  0.944054 -4.128968  0.011982  33.521448\n",
      "5     ZDT4  0.395476 -2.462325 -4.638446 -0.002136  0.395476  37.318946\n",
      "6     ZDT4  0.409745  2.536187  3.602344  1.459451  0.409745  28.395075\n",
      "7     ZDT4  0.236934 -1.462970 -0.454250 -4.523088  0.236934  24.369457\n",
      "8     ZDT4  0.744856  3.364925 -2.845770 -4.023890  0.744856  55.122943\n",
      "9     ZDT4  0.185915  1.164276 -3.371652  3.831493  0.185915  65.185600\n",
      "10    ZDT4  0.000328  0.301844 -2.395622  3.465492  0.000328  45.032904\n",
      "11    ZDT4  0.373332 -2.591948 -4.557424 -3.449864  0.373332  46.413780\n",
      "12    ZDT4  0.577537  2.040174 -3.814422 -4.503374  0.577537  52.352215\n",
      "13    ZDT4  0.263339  4.395419  0.567591  0.021657  0.263339  28.971074\n",
      "14    ZDT4  0.137810 -4.825321  4.494245 -0.342237  0.137810  71.268661\n",
      "15    ZDT4  0.785270  3.182878 -2.118670  2.352954  0.785270  52.895504\n",
      "16    ZDT4  0.779773  3.984797  0.090184 -1.340529  0.779773  33.324036\n",
      "17    ZDT4  0.374531 -1.072029 -4.746115  1.584649  0.374531  51.556642\n",
      "18    ZDT4  0.596096 -4.174970  4.278649 -3.889736  0.596096  87.724218\n",
      "19    ZDT4  0.496629 -0.173733  4.034770 -2.219615  0.496629  52.827498\n"
     ]
    }
   ],
   "source": [
    "configs = zdt.sample(n=20)\n",
    "configs_as_df = pd.DataFrame(data=configs)\n",
    "print(configs_as_df)"
   ]
  }
 ],
 "metadata": {
  "kernelspec": {
   "display_name": "Python 3",
   "language": "python",
   "name": "python3"
  },
  "language_info": {
   "codemirror_mode": {
    "name": "ipython",
    "version": 3
   },
   "file_extension": ".py",
   "mimetype": "text/x-python",
   "name": "python",
   "nbconvert_exporter": "python",
   "pygments_lexer": "ipython3",
   "version": "3.7.4"
  }
 },
 "nbformat": 4,
 "nbformat_minor": 4
}
